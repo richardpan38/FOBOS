{
 "cells": [
  {
   "cell_type": "markdown",
   "metadata": {},
   "source": [
    "# Simulating Spectra"
   ]
  },
  {
   "cell_type": "markdown",
   "metadata": {},
   "source": [
    "Through DESI's specsim we will simulate mock spectra with FOBOS parameters"
   ]
  },
  {
   "cell_type": "markdown",
   "metadata": {
    "collapsed": true
   },
   "source": [
    "The first step is to go to this link https://desi.lbl.gov/trac/wiki/Pipeline/GettingStarted/Laptop/JuneMeeting and download desi. "
   ]
  },
  {
   "cell_type": "markdown",
   "metadata": {},
   "source": [
    "# Introduction"
   ]
  },
  {
   "cell_type": "markdown",
   "metadata": {},
   "source": [
    "The first step we did was to check that the code to generate smoothed objects and their Mini-IFUs worked. Now we will use those magnitudes calculated to renormalize specsim spectra. "
   ]
  },
  {
   "cell_type": "code",
   "execution_count": 1,
   "metadata": {
    "collapsed": false
   },
   "outputs": [
    {
     "name": "stdout",
     "output_type": "stream",
     "text": [
      "/Users/RichardP/research/fobos/py_FOBOS\n"
     ]
    }
   ],
   "source": [
    "cd /Users/RichardP/Research/FOBOS/py_FOBOS/"
   ]
  },
  {
   "cell_type": "code",
   "execution_count": 2,
   "metadata": {
    "collapsed": true
   },
   "outputs": [],
   "source": [
    "import numpy as np\n",
    "from astropy.io import fits\n",
    "from astropy import wcs\n",
    "import matplotlib.pyplot as plt\n",
    "import scipy.ndimage.filters as ndimage\n",
    "#This is the specific code\n",
    "import gen_spec"
   ]
  },
  {
   "cell_type": "code",
   "execution_count": 3,
   "metadata": {
    "collapsed": false
   },
   "outputs": [],
   "source": [
    "gen = gen_spec.gen_spectra('/Users/RichardP/Research/FOBOS/Samples/acs_I_030mas_088_sci.fits')\n",
    "gen.catalog_info('/Users/RichardP/Research/FOBOS/Samples/photoz_vers2.0_010312_UltraVISTA2016.fits')"
   ]
  },
  {
   "cell_type": "markdown",
   "metadata": {},
   "source": [
    "First, we are going to look for a specific object with IMAG between 23 - 24 and save them into a list for specsim later. These objects will be the magnitude objects we use to renormalize."
   ]
  },
  {
   "cell_type": "code",
   "execution_count": 4,
   "metadata": {
    "collapsed": false
   },
   "outputs": [
    {
     "name": "stdout",
     "output_type": "stream",
     "text": [
      "1423982_2: 23.93\n",
      "1424243_8: 23.836\n",
      "1424298_9: 23.664\n",
      "1424367_11: 23.985\n",
      "1424429_13: 23.819\n",
      "1424449_14: 23.402\n",
      "1424505_16: 23.276\n",
      "1424533_17: 23.116\n",
      "1424534_18: 23.16\n",
      "1424536_19: 23.73\n",
      "1424582_24: 23.512\n",
      "1424639_32: 23.282\n",
      "1424647_33: 23.187\n",
      "1424658_39: 23.325\n",
      "1424737_43: 23.032\n",
      "1424742_44: 23.239\n",
      "1424803_45: 23.858\n",
      "1424883_51: 23.471\n",
      "1425000_57: 23.785\n",
      "1425122_62: 23.508\n",
      "1425139_63: 23.978\n",
      "1425143_65: 23.967\n",
      "1425245_68: 23.299\n",
      "1425537_97: 23.696\n",
      "1425621_99: 23.808\n",
      "1425747_109: 23.566\n",
      "1425749_110: 23.401\n",
      "1425757_113: 23.864\n",
      "1425759_114: 23.934\n",
      "1425760_115: 23.845\n",
      "1425763_117: 23.903\n",
      "1425765_118: 23.103\n",
      "1425781_121: 23.708\n",
      "1425867_123: 23.582\n",
      "1425883_126: 23.039\n",
      "1425886_127: 23.672\n",
      "1425930_135: 23.672\n",
      "1425969_136: 23.722\n",
      "1426036_138: 23.648\n",
      "1426094_142: 23.867\n",
      "1426147_147: 23.681\n",
      "1426167_148: 23.892\n",
      "1426175_150: 23.254\n",
      "1426434_155: 23.668\n",
      "1426495_157: 23.654\n",
      "1426496_158: 23.347\n",
      "1426802_171: 23.801\n",
      "1426817_172: 23.662\n",
      "1426940_179: 23.697\n",
      "1426963_180: 23.277\n",
      "1427096_189: 23.913\n",
      "1427117_194: 23.587\n",
      "1427146_195: 23.743\n",
      "1427150_197: 23.391\n",
      "1427173_198: 23.74\n",
      "1427266_201: 23.878\n",
      "1427300_204: 23.951\n",
      "1427311_207: 23.17\n",
      "1427337_209: 23.378\n",
      "1427442_216: 23.889\n",
      "1427645_224: 23.977\n",
      "1427706_235: 23.476\n",
      "1427743_239: 23.402\n",
      "1427784_241: 23.654\n",
      "1427827_242: 23.104\n",
      "1427835_244: 23.222\n",
      "1427839_246: 23.651\n",
      "1427858_252: 23.747\n",
      "1427938_257: 23.631\n",
      "1428071_268: 23.422\n",
      "1428091_269: 23.391\n"
     ]
    }
   ],
   "source": [
    "target_indexes = []\n",
    "def sample_index():\n",
    "    counter = 0\n",
    "    for i in range(0, len(gen.objects_index)):\n",
    "        if counter <= 70:\n",
    "            if gen.objects_Imag[i] > 23 and gen.objects_Imag[i] < 24:\n",
    "                print(str(gen.objects_id[i]) + \"_\" + str(i) + \": \" + str(gen.objects_Imag[i]))\n",
    "                target_indexes.append(i)\n",
    "                counter += 1\n",
    "sample_index()\n"
   ]
  },
  {
   "cell_type": "markdown",
   "metadata": {},
   "source": [
    "## Smoothing"
   ]
  },
  {
   "cell_type": "markdown",
   "metadata": {},
   "source": [
    "We will start by doing our basic Mini-IFU overplotting and then smoothing with FWHM = .7. We guess that the seeing will be around .7 and can change that value to more extreme seeing conditions. This is needed because of the inherent seeing caused by the atmosphere. "
   ]
  },
  {
   "cell_type": "code",
   "execution_count": 5,
   "metadata": {
    "collapsed": true
   },
   "outputs": [],
   "source": [
    "gen.overplotting()"
   ]
  },
  {
   "cell_type": "code",
   "execution_count": 6,
   "metadata": {
    "collapsed": false
   },
   "outputs": [],
   "source": [
    "FWHM = .7\n",
    "gen.smooth(FWHM)\n",
    "gen.smoothing(FWHM)"
   ]
  },
  {
   "cell_type": "markdown",
   "metadata": {},
   "source": [
    "Now we will run a simple script to convert the smoothed fluxes to magnitudes and compile into lists according to their Mini-IFU's. This will organize us for the next step when we want to renormalize the spectra"
   ]
  },
  {
   "cell_type": "code",
   "execution_count": 7,
   "metadata": {
    "collapsed": false
   },
   "outputs": [
    {
     "name": "stderr",
     "output_type": "stream",
     "text": [
      "/Users/RichardP/research/fobos/py_FOBOS/gen_spec.py:349: RuntimeWarning: invalid value encountered in log10\n",
      "  ABMAG =  ((-2.5 * np.log10(FluxVals[i])) +23.9)\n"
     ]
    }
   ],
   "source": [
    "Mag0 = []\n",
    "Mag1 = []\n",
    "Mag2 = []\n",
    "Mag3 = []\n",
    "Mag4 = []\n",
    "Mag5 = []\n",
    "Mag6 = []\n",
    "for i in range(0,71):\n",
    "    gen.target_index = target_indexes[i]\n",
    "    gen.ABMAG_Convert(gen.smoothed_IFU_flux0)\n",
    "    Mag0.append(gen.ABMAG_list[gen.target_index])\n",
    "for i in range(0,71):\n",
    "    gen.target_index = target_indexes[i]\n",
    "    gen.ABMAG_Convert(gen.smoothed_IFU_flux1)\n",
    "    Mag1.append(gen.ABMAG_list[gen.target_index])\n",
    "for i in range(0,71):\n",
    "    gen.target_index = target_indexes[i]\n",
    "    gen.ABMAG_Convert(gen.smoothed_IFU_flux2)\n",
    "    Mag2.append(gen.ABMAG_list[gen.target_index])\n",
    "for i in range(0,71):\n",
    "    gen.target_index = target_indexes[i]\n",
    "    gen.ABMAG_Convert(gen.smoothed_IFU_flux3)\n",
    "    Mag3.append(gen.ABMAG_list[gen.target_index])\n",
    "for i in range(0,71):\n",
    "    gen.target_index = target_indexes[i]\n",
    "    gen.ABMAG_Convert(gen.smoothed_IFU_flux4)\n",
    "    Mag4.append(gen.ABMAG_list[gen.target_index])\n",
    "for i in range(0,71):\n",
    "    gen.target_index = target_indexes[i]\n",
    "    gen.ABMAG_Convert(gen.smoothed_IFU_flux5)\n",
    "    Mag5.append(gen.ABMAG_list[gen.target_index])\n",
    "for i in range(0,71):\n",
    "    gen.target_index = target_indexes[i]\n",
    "    gen.ABMAG_Convert(gen.smoothed_IFU_flux6)\n",
    "    Mag6.append(gen.ABMAG_list[gen.target_index])"
   ]
  },
  {
   "cell_type": "code",
   "execution_count": 8,
   "metadata": {
    "collapsed": false
   },
   "outputs": [
    {
     "name": "stdout",
     "output_type": "stream",
     "text": [
      "71\n",
      "71\n",
      "71\n",
      "71\n",
      "71\n",
      "71\n",
      "71\n"
     ]
    }
   ],
   "source": [
    "print(len(Mag0))\n",
    "print(len(Mag1))\n",
    "print(len(Mag2))\n",
    "print(len(Mag3))\n",
    "print(len(Mag4))\n",
    "print(len(Mag5))\n",
    "print(len(Mag6))"
   ]
  },
  {
   "cell_type": "markdown",
   "metadata": {},
   "source": [
    "Sanity check we have 71 magnitudes for each Mini-IFU totaling to 497 total \"fibers. We will now begin to incorporate specsim."
   ]
  },
  {
   "cell_type": "markdown",
   "metadata": {},
   "source": [
    "## Setting Up Specsim"
   ]
  },
  {
   "cell_type": "markdown",
   "metadata": {},
   "source": [
    "We have our magnitudes for the Mini-IFUs and now we just need our mock spectra."
   ]
  },
  {
   "cell_type": "markdown",
   "metadata": {},
   "source": [
    "Here is link for the doc instructing on setting up specsim. "
   ]
  },
  {
   "cell_type": "markdown",
   "metadata": {},
   "source": [
    "https://www.evernote.com/l/Ar1Rsj1ZwFpM77nrwimGqa3bSIDhqMb039M"
   ]
  },
  {
   "cell_type": "markdown",
   "metadata": {},
   "source": [
    "Now desi.yaml should be set. The import parameters for desi.yaml is the primary diameter and obscuration diameter as it sets up the instrument. All the other information is \"technically\" pertinent to FOBOS such as atmosphere and source. However, the source input parameters such as z_in and z_out we can and will edit in this notebook."
   ]
  },
  {
   "cell_type": "code",
   "execution_count": 9,
   "metadata": {
    "collapsed": false
   },
   "outputs": [
    {
     "name": "stdout",
     "output_type": "stream",
     "text": [
      "Populating the interactive namespace from numpy and matplotlib\n"
     ]
    }
   ],
   "source": [
    "%pylab inline"
   ]
  },
  {
   "cell_type": "code",
   "execution_count": 10,
   "metadata": {
    "collapsed": true
   },
   "outputs": [],
   "source": [
    "import astropy.units as u\n",
    "from astropy.coordinates import SkyCoord\n",
    "import numpy as np"
   ]
  },
  {
   "cell_type": "markdown",
   "metadata": {},
   "source": [
    "We will now import the simulator. If you have not done so already download specsim in your environment <br>\n",
    "<b>$pip install specsim<b>"
   ]
  },
  {
   "cell_type": "code",
   "execution_count": 11,
   "metadata": {
    "collapsed": false
   },
   "outputs": [],
   "source": [
    "import specsim.simulator"
   ]
  },
  {
   "cell_type": "markdown",
   "metadata": {},
   "source": [
    "We want to generate 71 spectra each with 7 fibers. This is to represent 7 Mini-IFUs multiplied by 71 total objects. We will assume that the redshift of these objects are random between redshift 2 and redshift 3 so we can differentiate between spectra. "
   ]
  },
  {
   "cell_type": "code",
   "execution_count": 25,
   "metadata": {
    "collapsed": false
   },
   "outputs": [
    {
     "ename": "ValueError",
     "evalue": "No such config file \"/users/richardp/desi/code/specsim/specsim/data/config/desi.yaml\".",
     "output_type": "error",
     "traceback": [
      "\u001b[0;31m---------------------------------------------------------------------------\u001b[0m",
      "\u001b[0;31mValueError\u001b[0m                                Traceback (most recent call last)",
      "\u001b[0;32m<ipython-input-25-4b3f85097966>\u001b[0m in \u001b[0;36m<module>\u001b[0;34m()\u001b[0m\n\u001b[1;32m      1\u001b[0m \u001b[0mfobos\u001b[0m \u001b[0;34m=\u001b[0m \u001b[0;34m{\u001b[0m\u001b[0;34m}\u001b[0m\u001b[0;34m\u001b[0m\u001b[0m\n\u001b[1;32m      2\u001b[0m \u001b[0;32mfor\u001b[0m \u001b[0mi\u001b[0m \u001b[0;32min\u001b[0m \u001b[0mrange\u001b[0m\u001b[0;34m(\u001b[0m\u001b[0;36m0\u001b[0m\u001b[0;34m,\u001b[0m\u001b[0;36m71\u001b[0m\u001b[0;34m)\u001b[0m\u001b[0;34m:\u001b[0m\u001b[0;34m\u001b[0m\u001b[0m\n\u001b[0;32m----> 3\u001b[0;31m     \u001b[0mdesi\u001b[0m \u001b[0;34m=\u001b[0m \u001b[0mspecsim\u001b[0m\u001b[0;34m.\u001b[0m\u001b[0msimulator\u001b[0m\u001b[0;34m.\u001b[0m\u001b[0mSimulator\u001b[0m\u001b[0;34m(\u001b[0m\u001b[0;34m'/users/richardp/desi/code/specsim/specsim/data/config/desi.yaml'\u001b[0m\u001b[0;34m,\u001b[0m \u001b[0mnum_fibers\u001b[0m\u001b[0;34m=\u001b[0m\u001b[0;36m7\u001b[0m\u001b[0;34m)\u001b[0m\u001b[0;34m\u001b[0m\u001b[0m\n\u001b[0m\u001b[1;32m      4\u001b[0m     \u001b[0mrand_int\u001b[0m \u001b[0;34m=\u001b[0m \u001b[0mround\u001b[0m\u001b[0;34m(\u001b[0m\u001b[0mrandom\u001b[0m\u001b[0;34m.\u001b[0m\u001b[0muniform\u001b[0m\u001b[0;34m(\u001b[0m\u001b[0;36m2.0\u001b[0m\u001b[0;34m,\u001b[0m \u001b[0;36m3.0\u001b[0m\u001b[0;34m)\u001b[0m\u001b[0;34m,\u001b[0m \u001b[0;36m3\u001b[0m\u001b[0;34m)\u001b[0m\u001b[0;34m\u001b[0m\u001b[0m\n\u001b[1;32m      5\u001b[0m     \u001b[0mdesi\u001b[0m\u001b[0;34m.\u001b[0m\u001b[0msource\u001b[0m\u001b[0;34m.\u001b[0m\u001b[0mupdate_in\u001b[0m\u001b[0;34m(\u001b[0m\u001b[0;34m\"qso_z0\"\u001b[0m\u001b[0;34m,\u001b[0m \u001b[0;34m\"perfect\"\u001b[0m\u001b[0;34m,\u001b[0m \u001b[0mdesi\u001b[0m\u001b[0;34m.\u001b[0m\u001b[0msource\u001b[0m\u001b[0;34m.\u001b[0m\u001b[0mwavelength_in\u001b[0m\u001b[0;34m,\u001b[0m \u001b[0mdesi\u001b[0m\u001b[0;34m.\u001b[0m\u001b[0msource\u001b[0m\u001b[0;34m.\u001b[0m\u001b[0mflux_in\u001b[0m\u001b[0;34m,\u001b[0m \u001b[0mz_in\u001b[0m\u001b[0;34m=\u001b[0m\u001b[0;36m0\u001b[0m\u001b[0;34m)\u001b[0m\u001b[0;34m\u001b[0m\u001b[0m\n",
      "\u001b[0;32m/Users/RichardP/anaconda3/envs/plue/lib/python3.5/site-packages/specsim/simulator.py\u001b[0m in \u001b[0;36m__init__\u001b[0;34m(self, config, num_fibers, camera_output, verbose)\u001b[0m\n\u001b[1;32m     67\u001b[0m \u001b[0;34m\u001b[0m\u001b[0m\n\u001b[1;32m     68\u001b[0m         \u001b[0;32mif\u001b[0m \u001b[0mspecsim\u001b[0m\u001b[0;34m.\u001b[0m\u001b[0mconfig\u001b[0m\u001b[0;34m.\u001b[0m\u001b[0mis_string\u001b[0m\u001b[0;34m(\u001b[0m\u001b[0mconfig\u001b[0m\u001b[0;34m)\u001b[0m\u001b[0;34m:\u001b[0m\u001b[0;34m\u001b[0m\u001b[0m\n\u001b[0;32m---> 69\u001b[0;31m             \u001b[0mconfig\u001b[0m \u001b[0;34m=\u001b[0m \u001b[0mspecsim\u001b[0m\u001b[0;34m.\u001b[0m\u001b[0mconfig\u001b[0m\u001b[0;34m.\u001b[0m\u001b[0mload_config\u001b[0m\u001b[0;34m(\u001b[0m\u001b[0mconfig\u001b[0m\u001b[0;34m)\u001b[0m\u001b[0;34m\u001b[0m\u001b[0m\n\u001b[0m\u001b[1;32m     70\u001b[0m         \u001b[0mconfig\u001b[0m\u001b[0;34m.\u001b[0m\u001b[0mverbose\u001b[0m \u001b[0;34m=\u001b[0m \u001b[0mverbose\u001b[0m\u001b[0;34m\u001b[0m\u001b[0m\n\u001b[1;32m     71\u001b[0m         \u001b[0mself\u001b[0m\u001b[0;34m.\u001b[0m\u001b[0mverbose\u001b[0m \u001b[0;34m=\u001b[0m \u001b[0mverbose\u001b[0m\u001b[0;34m\u001b[0m\u001b[0m\n",
      "\u001b[0;32m/Users/RichardP/anaconda3/envs/plue/lib/python3.5/site-packages/specsim/config.py\u001b[0m in \u001b[0;36mload_config\u001b[0;34m(name, config_type)\u001b[0m\n\u001b[1;32m    690\u001b[0m             'data/config/{0}.yaml'.format(name))\n\u001b[1;32m    691\u001b[0m     \u001b[0;32mif\u001b[0m \u001b[0;32mnot\u001b[0m \u001b[0mos\u001b[0m\u001b[0;34m.\u001b[0m\u001b[0mpath\u001b[0m\u001b[0;34m.\u001b[0m\u001b[0misfile\u001b[0m\u001b[0;34m(\u001b[0m\u001b[0mfile_name\u001b[0m\u001b[0;34m)\u001b[0m\u001b[0;34m:\u001b[0m\u001b[0;34m\u001b[0m\u001b[0m\n\u001b[0;32m--> 692\u001b[0;31m         \u001b[0;32mraise\u001b[0m \u001b[0mValueError\u001b[0m\u001b[0;34m(\u001b[0m\u001b[0;34m'No such config file \"{0}\".'\u001b[0m\u001b[0;34m.\u001b[0m\u001b[0mformat\u001b[0m\u001b[0;34m(\u001b[0m\u001b[0mfile_name\u001b[0m\u001b[0;34m)\u001b[0m\u001b[0;34m)\u001b[0m\u001b[0;34m\u001b[0m\u001b[0m\n\u001b[0m\u001b[1;32m    693\u001b[0m \u001b[0;34m\u001b[0m\u001b[0m\n\u001b[1;32m    694\u001b[0m     \u001b[0;31m# Validate that all mapping keys are valid python identifiers.\u001b[0m\u001b[0;34m\u001b[0m\u001b[0;34m\u001b[0m\u001b[0m\n",
      "\u001b[0;31mValueError\u001b[0m: No such config file \"/users/richardp/desi/code/specsim/specsim/data/config/desi.yaml\"."
     ]
    }
   ],
   "source": [
    "fobos = {}\n",
    "for i in range(0,71):\n",
    "    desi = specsim.simulator.Simulator('/users/richardp/desi/code/specsim/specsim/data/config/desi.yaml', num_fibers=7)\n",
    "    rand_int = round(random.uniform(2.0, 3.0), 3)\n",
    "    desi.source.update_in(\"qso_z0\", \"perfect\", desi.source.wavelength_in, desi.source.flux_in, z_in=0)\n",
    "    desi.source.update_out(z_out = rand_int, filter_name = \"sdss2010-i\", ab_magnitude_out = 23)\n",
    "    desi.simulate()\n",
    "    fobos[str(i).format(i)] = desi"
   ]
  },
  {
   "cell_type": "code",
   "execution_count": null,
   "metadata": {
    "collapsed": false
   },
   "outputs": [],
   "source": [
    "fobos['0'].plot()\n",
    "fobos['20'].plot()\n",
    "fobos['32'].plot()"
   ]
  },
  {
   "cell_type": "markdown",
   "metadata": {},
   "source": [
    "We have set up a dictionary called fobos with 71 different spectra that have random redshift. We have normalized about abmag 23, but we will renormalize according to the magnitude values calculated earlier. "
   ]
  },
  {
   "cell_type": "markdown",
   "metadata": {},
   "source": [
    "Now we want to renormalize the values. gen_spec has a method to do this renormalization for us. "
   ]
  },
  {
   "cell_type": "code",
   "execution_count": null,
   "metadata": {
    "collapsed": false
   },
   "outputs": [],
   "source": [
    "def mag_normalization(Mini_IFU_list, original_mag, IFU_number):\n",
    "    for i in range(0,71):\n",
    "        for j in range(0,63001):\n",
    "            gen.renormalization(Mini_IFU_list[i], original_mag, float(fobos[str(i)].simulated[\"source_flux\"][j][IFU_number]))\n",
    "            fobos[str(i)].simulated[\"source_flux\"][j][IFU_number] = gen.flux1val\n",
    "mag_normalization(Mag1, 23, 1)\n",
    "mag_normalization(Mag2, 23, 2)\n",
    "mag_normalization(Mag3, 23, 3)\n",
    "mag_normalization(Mag4, 23, 4)\n",
    "mag_normalization(Mag5, 23, 5)\n",
    "mag_normalization(Mag6, 23, 6)"
   ]
  },
  {
   "cell_type": "markdown",
   "metadata": {},
   "source": [
    "We have no renormalized the spectra for each fiber according to the Mini-IFU counter part. To do this we indexed through every fobos wavelength and renormalized the spectra according to the Mini-IFU counterpart. "
   ]
  },
  {
   "cell_type": "code",
   "execution_count": null,
   "metadata": {
    "collapsed": false
   },
   "outputs": [],
   "source": [
    "fobos['0'].plot()\n",
    "fobos['20'].plot()\n",
    "fobos['32'].plot()"
   ]
  },
  {
   "cell_type": "code",
   "execution_count": null,
   "metadata": {
    "collapsed": true
   },
   "outputs": [],
   "source": []
  }
 ],
 "metadata": {
  "kernelspec": {
   "display_name": "Python 3",
   "language": "python",
   "name": "python3"
  },
  "language_info": {
   "codemirror_mode": {
    "name": "ipython",
    "version": 3
   },
   "file_extension": ".py",
   "mimetype": "text/x-python",
   "name": "python",
   "nbconvert_exporter": "python",
   "pygments_lexer": "ipython3",
   "version": "3.5.2"
  }
 },
 "nbformat": 4,
 "nbformat_minor": 2
}
